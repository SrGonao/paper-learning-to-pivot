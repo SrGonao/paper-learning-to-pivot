{
 "cells": [
  {
   "cell_type": "code",
   "execution_count": 217,
   "metadata": {
    "collapsed": true
   },
   "outputs": [],
   "source": [
    "%matplotlib inline\n",
    "import matplotlib.pyplot as plt\n",
    "\n",
    "import numpy as np\n",
    "import keras.backend as K\n",
    "from keras.layers import Input, Dense, Merge, Lambda\n",
    "from keras.models import Model\n",
    "from keras.optimizers import SGD, Adam\n",
    "import theano.tensor as T"
   ]
  },
  {
   "cell_type": "code",
   "execution_count": 218,
   "metadata": {
    "collapsed": false
   },
   "outputs": [
    {
     "data": {
      "image/png": "[encoded data removed]",
      "text/plain": [
       "<matplotlib.figure.Figure at 0x7f1a6a3b7400>"
      ]
     },
     "metadata": {},
     "output_type": "display_data"
    }
   ],
   "source": [
    "from carl.distributions import Mixture, Normal\n",
    "p0 = Mixture(components=[Normal(0, 1), Normal(3, 2)], weights=[0.3, 0.7])\n",
    "p1 = Mixture(components=[Normal(-1, 2), Normal(3, 1)], weights=[0.5, 0.5])\n",
    "\n",
    "x = np.linspace(-10, 10, 100).reshape(-1, 1)\n",
    "plt.plot(x, p0.pdf(x), label=\"p0\")\n",
    "plt.plot(x, p1.pdf(x), label=\"p1\")\n",
    "plt.legend()\n",
    "plt.show()"
   ]
  },
  {
   "cell_type": "code",
   "execution_count": 219,
   "metadata": {
    "collapsed": false
   },
   "outputs": [],
   "source": [
    "n_samples = 50000\n",
    "\n",
    "X0 = np.zeros(n_samples).reshape(-1,1)\n",
    "X1 = np.ones(n_samples).reshape(-1,1)\n",
    "y0 = p0.rvs(n_samples)\n",
    "y1 = p1.rvs(n_samples)\n",
    "X = np.vstack([X0,X1])\n",
    "y = np.vstack([y0,y1]).ravel()\n",
    "\n",
    "a, b = -4, 4\n",
    "mask = (a < y) & (y < b)\n",
    "X, y = X[mask], y[mask]"
   ]
  },
  {
   "cell_type": "code",
   "execution_count": 220,
   "metadata": {
    "collapsed": true
   },
   "outputs": [],
   "source": [
    "n_components = 2\n",
    "\n",
    "inputs = Input(shape=(1,))\n",
    "h = Dense(4, activation=\"relu\")(inputs)\n",
    "h = Dense(4, activation=\"relu\")(h)\n",
    "h = Dense(4, activation=\"relu\")(h)\n",
    "\n",
    "mu = Dense(n_components, activation=\"tanh\")(h)\n",
    "mu = Lambda(lambda x: (x+1.0)/2.0 * (b-a) + a)(mu)\n",
    "sigma = Dense(n_components, activation=K.exp)(h)\n",
    "pi = Dense(n_components, activation=\"softmax\")(h)\n",
    "\n",
    "MDN = Model(input=[inputs], output=[Merge(mode=\"concat\")([mu, sigma, pi])])"
   ]
  },
  {
   "cell_type": "code",
   "execution_count": 221,
   "metadata": {
    "collapsed": true
   },
   "outputs": [],
   "source": [
    "def make_loss(n_components, a, b):\n",
    "    def loss(y_true, y_pred):\n",
    "        y_true = y_true.ravel()\n",
    "        \n",
    "        mu = y_pred[:, :n_components]\n",
    "        sigma = y_pred[:, n_components:2*n_components]\n",
    "        pi = y_pred[:, 2*n_components:]\n",
    "        \n",
    "        pdf = pi[:, 0] * ((1. / np.sqrt(2. * np.pi)) / sigma[:, 0] *\n",
    "                          K.exp(-(y_true - mu[:, 0]) ** 2 / (2. * sigma[:, 0] ** 2)))\n",
    "        \n",
    "        Fa = pi[:, 0] * 0.5 * (1. + T.erf((a - mu[:, 0]) / (sigma[:, 0] * np.sqrt(2.))))\n",
    "        Fb = pi[:, 0] * 0.5 * (1. + T.erf((b - mu[:, 0]) / (sigma[:, 0] * np.sqrt(2.))))\n",
    "        \n",
    "        for c in range(1, n_components):\n",
    "            pdf += pi[:, c] * ((1. / np.sqrt(2. * np.pi)) / sigma[:, c] *\n",
    "                               K.exp(-(y_true - mu[:, c]) ** 2 / (2. * sigma[:, c] ** 2)))\n",
    "            \n",
    "            Fa += pi[:, c] * 0.5 * (1. + T.erf((a - mu[:, c]) / (sigma[:, c] * np.sqrt(2.))))\n",
    "            Fb += pi[:, c] * 0.5 * (1. + T.erf((b - mu[:, c]) / (sigma[:, c] * np.sqrt(2.))))\n",
    "        \n",
    "        nll = -K.log(pdf / (Fb - Fa))\n",
    "        \n",
    "        return nll.mean()\n",
    "    \n",
    "    return loss"
   ]
  },
  {
   "cell_type": "code",
   "execution_count": 222,
   "metadata": {
    "collapsed": false
   },
   "outputs": [],
   "source": [
    "MDN.compile(loss=make_loss(n_components, a, b), optimizer=Adam())"
   ]
  },
  {
   "cell_type": "code",
   "execution_count": 223,
   "metadata": {
    "collapsed": false
   },
   "outputs": [
    {
     "name": "stdout",
     "output_type": "stream",
     "text": [
      "Epoch 1/10\n",
      "83359/83359 [==============================] - 2s - loss: 2.0272     \n",
      "Epoch 2/10\n",
      "83359/83359 [==============================] - 2s - loss: 1.8923     \n",
      "Epoch 3/10\n",
      "83359/83359 [==============================] - 2s - loss: 1.8914     \n",
      "Epoch 4/10\n",
      "83359/83359 [==============================] - 2s - loss: 1.8910     \n",
      "Epoch 5/10\n",
      "83359/83359 [==============================] - 2s - loss: 1.8911     \n",
      "Epoch 6/10\n",
      "83359/83359 [==============================] - 2s - loss: 1.8909     \n",
      "Epoch 7/10\n",
      "83359/83359 [==============================] - 2s - loss: 1.8910     \n",
      "Epoch 8/10\n",
      "83359/83359 [==============================] - 2s - loss: 1.8910     \n",
      "Epoch 9/10\n",
      "83359/83359 [==============================] - 2s - loss: 1.8908     \n",
      "Epoch 10/10\n",
      "83359/83359 [==============================] - 2s - loss: 1.8909     \n"
     ]
    },
    {
     "data": {
      "text/plain": [
       "<keras.callbacks.History at 0x7f1a61dc97f0>"
      ]
     },
     "execution_count": 223,
     "metadata": {},
     "output_type": "execute_result"
    }
   ],
   "source": [
    "MDN.fit(X, y)"
   ]
  },
  {
   "cell_type": "code",
   "execution_count": 224,
   "metadata": {
    "collapsed": false
   },
   "outputs": [
    {
     "name": "stdout",
     "output_type": "stream",
     "text": [
      "[ 3.18704891  0.13118696  1.50857389  1.13427782  0.56163532  0.43836468]\n",
      "[ 2.96819973 -0.86940765  1.00083482  2.04311061  0.5038771   0.4961229 ]\n"
     ]
    },
    {
     "data": {
      "text/plain": [
       "(array([ 0.04213134,  0.04902556,  0.05396216,  0.06494184,  0.07294254,\n",
       "         0.08409245,  0.09405077,  0.10375374,  0.10690295,  0.10911591,\n",
       "         0.11822309,  0.11464831,  0.1103075 ,  0.11328649,  0.1016259 ,\n",
       "         0.09958316,  0.09166758,  0.0930294 ,  0.09702975,  0.10988194,\n",
       "         0.11507388,  0.14273587,  0.16895092,  0.20223042,  0.22631763,\n",
       "         0.23882937,  0.24410642,  0.22521116,  0.20231554,  0.15439646]),\n",
       " array([ -3.99977197e+00,  -3.73313161e+00,  -3.46649126e+00,\n",
       "         -3.19985090e+00,  -2.93321054e+00,  -2.66657019e+00,\n",
       "         -2.39992983e+00,  -2.13328948e+00,  -1.86664912e+00,\n",
       "         -1.60000877e+00,  -1.33336841e+00,  -1.06672806e+00,\n",
       "         -8.00087702e-01,  -5.33447346e-01,  -2.66806991e-01,\n",
       "         -1.66635585e-04,   2.66473720e-01,   5.33114075e-01,\n",
       "          7.99754430e-01,   1.06639479e+00,   1.33303514e+00,\n",
       "          1.59967550e+00,   1.86631585e+00,   2.13295621e+00,\n",
       "          2.39959656e+00,   2.66623692e+00,   2.93287727e+00,\n",
       "          3.19951763e+00,   3.46615798e+00,   3.73279834e+00,\n",
       "          3.99943869e+00]),\n",
       " <a list of 1 Patch objects>)"
      ]
     },
     "execution_count": 224,
     "metadata": {},
     "output_type": "execute_result"
    },
    {
     "data": {
      "image/png": "[encoded data removed]",
      "text/plain": [
       "<matplotlib.figure.Figure at 0x7f1a64cae6a0>"
      ]
     },
     "metadata": {},
     "output_type": "display_data"
    }
   ],
   "source": [
    "params = MDN.predict(np.array([[0.]])).ravel()\n",
    "print(params)\n",
    "p = Mixture(components=[Normal(params[0], params[2]), Normal(params[1], params[3])], weights=[params[4], params[5]])\n",
    "Fa = p.cdf(np.array([[a]])).ravel()\n",
    "Fb = p.cdf(np.array([[b]])).ravel()\n",
    "x = np.linspace(a, b, 100).reshape(-1, 1)\n",
    "plt.plot(x, p.pdf(x) / (Fb - Fa), c=\"blue\")\n",
    "plt.hist(y[X.ravel()==0], histtype=\"step\", bins=30, normed=1, color=\"blue\")\n",
    "\n",
    "params = MDN.predict(np.array([[1.]])).ravel()\n",
    "print(params)\n",
    "p = Mixture(components=[Normal(params[0], params[2]), Normal(params[1], params[3])], weights=[params[4], params[5]])\n",
    "Fa = p.cdf(np.array([[a]])).ravel()\n",
    "Fb = p.cdf(np.array([[b]])).ravel()\n",
    "x = np.linspace(a, b, 100).reshape(-1, 1)\n",
    "plt.plot(x, p.pdf(x) / (Fb - Fa), c=\"red\")\n",
    "plt.hist(y[X.ravel()==1], histtype=\"step\", bins=30, normed=1, color=\"red\")"
   ]
  }
 ],
 "metadata": {
  "kernelspec": {
   "display_name": "Python 3",
   "language": "python",
   "name": "python3"
  },
  "language_info": {
   "codemirror_mode": {
    "name": "ipython",
    "version": 3
   },
   "file_extension": ".py",
   "mimetype": "text/x-python",
   "name": "python",
   "nbconvert_exporter": "python",
   "pygments_lexer": "ipython3",
   "version": "3.5.1"
  }
 },
 "nbformat": 4,
 "nbformat_minor": 0
}
